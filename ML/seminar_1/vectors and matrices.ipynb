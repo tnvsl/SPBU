{
 "cells": [
  {
   "cell_type": "markdown",
   "id": "85379fd7",
   "metadata": {
    "slideshow": {
     "slide_type": "slide"
    }
   },
   "source": [
    "# Векторы и матрицы"
   ]
  },
  {
   "cell_type": "markdown",
   "id": "8cbaa8f6",
   "metadata": {
    "slideshow": {
     "slide_type": "fragment"
    }
   },
   "source": [
    "$\\vec{AB}$ - вектор\n",
    "\n",
    "$A = \\begin{bmatrix}\n",
    "    x_{11}       & x_{12} & x_{13} & \\dots & x_{1n} \\\\\n",
    "    x_{21}       & x_{22} & x_{23} & \\dots & x_{2n} \\\\\n",
    "    ...\\\\\n",
    "    x_{d1}       & x_{d2} & x_{d3} & \\dots & x_{dn}\n",
    "\\end{bmatrix}$ - матрица"
   ]
  },
  {
   "cell_type": "markdown",
   "id": "8196dcdc",
   "metadata": {
    "slideshow": {
     "slide_type": "subslide"
    }
   },
   "source": [
    "# Признаковое описание"
   ]
  },
  {
   "cell_type": "markdown",
   "id": "51f409b1",
   "metadata": {
    "slideshow": {
     "slide_type": "fragment"
    }
   },
   "source": [
    "Пример\n",
    "\n",
    "* Задача: предсказать завтрашнюю среднедневную температуру в городе\n",
    "* День - это объект\n",
    "* Признаки - числовые характеристики объектов\n"
   ]
  },
  {
   "cell_type": "markdown",
   "id": "7a1a13b2",
   "metadata": {
    "slideshow": {
     "slide_type": "fragment"
    }
   },
   "source": [
    "$ x = (25, 0.7, 1, 2, 10, 13, 37, 122)\\\\ $ \n",
    "Признаковое описание"
   ]
  },
  {
   "cell_type": "markdown",
   "id": "1fa515a4",
   "metadata": {
    "slideshow": {
     "slide_type": "subslide"
    }
   },
   "source": [
    "$ x = (\\textbf{25, 0.7, 1, 2}, 10, 13, 37, 122)\\\\ $\n",
    "*Показатели погоды*\n",
    "\n",
    "* температура\n",
    "* относительная\n",
    "* влажность\n",
    "* был ли дождь сегодня\n",
    "* скорость ветра в м\\с)"
   ]
  },
  {
   "cell_type": "markdown",
   "id": "d155b9a4",
   "metadata": {
    "slideshow": {
     "slide_type": "subslide"
    }
   },
   "source": [
    "$ x = (25, 0.7, 1, 2, \\textbf{10, 13}, 37, 122)\\\\ $\n",
    "\n",
    "*Темпоральные признаки*\n",
    "\n",
    "* Номер месяца\n",
    "* Текущее время"
   ]
  },
  {
   "cell_type": "markdown",
   "id": "b06a1e02",
   "metadata": {
    "slideshow": {
     "slide_type": "subslide"
    }
   },
   "source": [
    "$ x = (25, 0.7, 1, 2, 10, 13, \\textbf{37, 122})\\\\ $\n",
    "\n",
    "*Признаки локации*\n",
    "\n",
    "* Долгота\n",
    "* Широта"
   ]
  },
  {
   "cell_type": "markdown",
   "id": "31ef4cac",
   "metadata": {
    "slideshow": {
     "slide_type": "subslide"
    }
   },
   "source": [
    "То есть вектор (неформально) - набор чисел определенного количества"
   ]
  },
  {
   "cell_type": "markdown",
   "id": "c472b19a",
   "metadata": {
    "slideshow": {
     "slide_type": "slide"
    }
   },
   "source": [
    "# Несколько объектов - матрица\n",
    "\n",
    "$\\begin{bmatrix}\n",
    "    44.12       & 1 & 114 &  7.2 \\\\\n",
    "    \\textbf{38.14}       & \\textbf{0} & \\textbf{360} &  \\textbf{4.9} \\\\\n",
    "    16.46       & 1 & 48 &  1.1\n",
    "\\end{bmatrix}$ --> Объект"
   ]
  },
  {
   "cell_type": "markdown",
   "id": "37d0c9b8",
   "metadata": {
    "slideshow": {
     "slide_type": "subslide"
    }
   },
   "source": [
    "$\\begin{bmatrix}\n",
    "    44.12       & 1 & \\textbf{114} &  7.2 \\\\\n",
    "    38.14       & 0 & \\textbf{360} &  4.9 \\\\\n",
    "    16.46       & 1 & \\textbf{48} &  1.1\n",
    "\\end{bmatrix}$ --> Признак"
   ]
  },
  {
   "cell_type": "code",
   "execution_count": 5,
   "id": "59380b97",
   "metadata": {
    "slideshow": {
     "slide_type": "subslide"
    }
   },
   "outputs": [],
   "source": [
    "import numpy"
   ]
  },
  {
   "cell_type": "code",
   "execution_count": 6,
   "id": "29f9cc99",
   "metadata": {
    "slideshow": {
     "slide_type": "subslide"
    }
   },
   "outputs": [],
   "source": [
    "import numpy as np"
   ]
  },
  {
   "cell_type": "code",
   "execution_count": 13,
   "id": "8ae4034c",
   "metadata": {
    "slideshow": {
     "slide_type": "subslide"
    }
   },
   "outputs": [
    {
     "data": {
      "text/plain": [
       "array([ 25. ,   0.7,   1. ,   2. ,  10. ,  13. ,  37. , 122. ])"
      ]
     },
     "execution_count": 13,
     "metadata": {},
     "output_type": "execute_result"
    }
   ],
   "source": [
    "x = np.array((25,0.7,1,2,10, 13,37,122))\n",
    "x"
   ]
  },
  {
   "cell_type": "code",
   "execution_count": 14,
   "id": "857286f4",
   "metadata": {
    "slideshow": {
     "slide_type": "subslide"
    }
   },
   "outputs": [
    {
     "name": "stdout",
     "output_type": "stream",
     "text": [
      "25.0\n",
      "[1. 2.]\n"
     ]
    }
   ],
   "source": [
    "print(x[0])\n",
    "print(x[2:4])\n"
   ]
  },
  {
   "cell_type": "code",
   "execution_count": 16,
   "id": "5eb9ccc9",
   "metadata": {
    "scrolled": true,
    "slideshow": {
     "slide_type": "subslide"
    }
   },
   "outputs": [
    {
     "data": {
      "text/plain": [
       "array([[ 44.12,   1.  , 114.  ,   7.2 ],\n",
       "       [ 38.14,   0.  , 360.  ,   4.9 ],\n",
       "       [ 16.46,   1.  ,  48.  ,   1.1 ]])"
      ]
     },
     "execution_count": 16,
     "metadata": {},
     "output_type": "execute_result"
    }
   ],
   "source": [
    "x = np.array([\n",
    "          [44.12, 1, 114, 7.2],\n",
    "          [38.14, 0, 360, 4.9],\n",
    "          [16.46, 1, 48, 1.1]\n",
    "    ])\n",
    "x"
   ]
  },
  {
   "cell_type": "code",
   "execution_count": 27,
   "id": "8e5c4ef2",
   "metadata": {
    "slideshow": {
     "slide_type": "subslide"
    }
   },
   "outputs": [
    {
     "name": "stdout",
     "output_type": "stream",
     "text": [
      "Выбор объекта\n",
      "[ 44.12   1.   114.     7.2 ]\n",
      "----------\n",
      "Выбор признака\n",
      "[1. 0. 1.]\n",
      "----------\n",
      "Слайс объектов\n",
      "[[ 44.12   1.   114.     7.2 ]\n",
      " [ 38.14   0.   360.     4.9 ]]\n",
      "----------\n",
      "Слайс признаков\n",
      "[[44.12  1.  ]\n",
      " [38.14  0.  ]\n",
      " [16.46  1.  ]]\n",
      "----------\n"
     ]
    }
   ],
   "source": [
    "print(\"Выбор объекта\")\n",
    "print(x[0])\n",
    "print('-'*10)\n",
    "\n",
    "print(\"Выбор признака\")\n",
    "print(x[:, 1])\n",
    "print('-'*10)\n",
    "\n",
    "print(\"Слайс объектов\")\n",
    "print(x[:2])\n",
    "print('-'*10)\n",
    "\n",
    "print(\"Слайс признаков\")\n",
    "print(x[:, :2])\n",
    "print('-'*10)"
   ]
  },
  {
   "cell_type": "markdown",
   "id": "29723963",
   "metadata": {
    "slideshow": {
     "slide_type": "slide"
    }
   },
   "source": [
    "# Векторное пространство\n",
    "\n",
    "Для векторов задано две операции:\n",
    "\n",
    "* Сумма векторов\n",
    "* Умножение вектора на число\n",
    "\n",
    "При этом операции должны быть замкнуты:\n",
    "\n",
    "* Сумма векторов - вектор\n",
    "* Произведение вектора на число - вектор"
   ]
  },
  {
   "cell_type": "markdown",
   "id": "76396835",
   "metadata": {
    "slideshow": {
     "slide_type": "subslide"
    }
   },
   "source": [
    "#  Аксиомы векторного пространства (некоторые)\n",
    "\n",
    "* $ x + y = y + x $, для любых $ x,y \\in V $  - коммутативность сложения\n",
    "---\n",
    "* $ x + (y+z)=(x+y)+z $, для любых $ x,y,z \\in V $ - ассоциативность сложения\n",
    "---\n",
    "$\\href{https://ru.wikipedia.org/wiki/%D0%92%D0%B5%D0%BA%D1%82%D0%BE%D1%80%D0%BD%D0%BE%D0%B5_%D0%BF%D1%80%D0%BE%D1%81%D1%82%D1%80%D0%B0%D0%BD%D1%81%D1%82%D0%B2%D0%BE}{Аксиомы} $"
   ]
  },
  {
   "cell_type": "markdown",
   "id": "3e4b96de",
   "metadata": {
    "slideshow": {
     "slide_type": "fragment"
    }
   },
   "source": [
    "Евклидово векторное пространство -- $ \\mathbb{R^n} $\n",
    "\n",
    "* Точки на плоскости -- $ \\mathbb{R^2}$\n",
    "* Точки в пространстве -- $ \\mathbb{R^3}$"
   ]
  },
  {
   "cell_type": "markdown",
   "id": "7d694038",
   "metadata": {
    "slideshow": {
     "slide_type": "slide"
    }
   },
   "source": [
    "# Сложение\n",
    "\n",
    "* $ a = (a_1, ..., a_n) $\n",
    "* $ b = (b_1, ..., b_n) $\n",
    "\n",
    "$a + b = (a_1+b_1, ..., a_n+b_n)$"
   ]
  },
  {
   "cell_type": "code",
   "execution_count": 28,
   "id": "bfe63526",
   "metadata": {
    "slideshow": {
     "slide_type": "fragment"
    }
   },
   "outputs": [
    {
     "data": {
      "text/plain": [
       "array([ 3, 12, 25])"
      ]
     },
     "execution_count": 28,
     "metadata": {},
     "output_type": "execute_result"
    }
   ],
   "source": [
    "a = np.array([1, 5, 10])\n",
    "b = np.array([2, 7, 15])\n",
    "\n",
    "a + b"
   ]
  },
  {
   "cell_type": "markdown",
   "id": "1aef8b00",
   "metadata": {
    "slideshow": {
     "slide_type": "slide"
    }
   },
   "source": [
    "# Умножение\n",
    "\n",
    "* $ a = (a_1, ..., a_n) $\n",
    "\n",
    "* $ \\beta \\in \\mathbb{R}$\n",
    "\n",
    "* $ \\beta a = (\\beta a_1, ..., \\beta a_n)$"
   ]
  },
  {
   "cell_type": "code",
   "execution_count": 29,
   "id": "ce9225a8",
   "metadata": {
    "slideshow": {
     "slide_type": "fragment"
    }
   },
   "outputs": [
    {
     "data": {
      "text/plain": [
       "array([ 3, 15, 30])"
      ]
     },
     "execution_count": 29,
     "metadata": {},
     "output_type": "execute_result"
    }
   ],
   "source": [
    "a = np.array([1, 5, 10])\n",
    "a * 3"
   ]
  },
  {
   "cell_type": "markdown",
   "id": "fd0ffa27",
   "metadata": {
    "slideshow": {
     "slide_type": "subslide"
    }
   },
   "source": [
    "# Пример - усреднение\n",
    "\n",
    "$ \\overline{x} = \\frac{1}{m}\\sum_{i=1}^{m}(x^i_1, ..., x^i_n) $"
   ]
  },
  {
   "cell_type": "code",
   "execution_count": 33,
   "id": "c88eab79",
   "metadata": {
    "slideshow": {
     "slide_type": "fragment"
    }
   },
   "outputs": [
    {
     "data": {
      "text/plain": [
       "5.333333333333333"
      ]
     },
     "execution_count": 33,
     "metadata": {},
     "output_type": "execute_result"
    }
   ],
   "source": [
    "a = np.array([1, 5, 10])\n",
    "np.sum(a) / a.shape[0] # a.shape[0] same as len() in this case"
   ]
  },
  {
   "cell_type": "code",
   "execution_count": 30,
   "id": "fbd2d2a4",
   "metadata": {
    "slideshow": {
     "slide_type": "fragment"
    }
   },
   "outputs": [
    {
     "data": {
      "text/plain": [
       "5.333333333333333"
      ]
     },
     "execution_count": 30,
     "metadata": {},
     "output_type": "execute_result"
    }
   ],
   "source": [
    "a = np.array([1, 5, 10])\n",
    "np.mean(a)"
   ]
  },
  {
   "cell_type": "markdown",
   "id": "764d5327",
   "metadata": {
    "slideshow": {
     "slide_type": "slide"
    }
   },
   "source": [
    "# Длина вектора (норма)\n",
    "\n",
    "$ \\overrightarrow{AB} = (1,2) $\n",
    "\n",
    "Длина вычисляется по теореме Пифагора:\n",
    "\n",
    "$ |\\overrightarrow{AB}| = \\sqrt{1^2 + 2^2} = \\sqrt{5} \\approx 2.24$"
   ]
  },
  {
   "cell_type": "code",
   "execution_count": 34,
   "id": "acc4c46e",
   "metadata": {
    "slideshow": {
     "slide_type": "fragment"
    }
   },
   "outputs": [
    {
     "data": {
      "text/plain": [
       "2.23606797749979"
      ]
     },
     "execution_count": 34,
     "metadata": {},
     "output_type": "execute_result"
    }
   ],
   "source": [
    "np.linalg.norm((1,2))"
   ]
  },
  {
   "cell_type": "markdown",
   "id": "631c913d",
   "metadata": {
    "slideshow": {
     "slide_type": "slide"
    }
   },
   "source": [
    "# Скалярное произведение\n",
    "\n",
    "$ \\overrightarrow{AB} = (1,2) $\n",
    "\n",
    "$ \\overrightarrow{CD} = (-2,1) $\n",
    "\n",
    "$ <\\overrightarrow{AB}, \\overrightarrow{CD}> = (A \\cdot C) + (B \\cdot D) = 0$"
   ]
  },
  {
   "cell_type": "code",
   "execution_count": 37,
   "id": "d7f9fa41",
   "metadata": {
    "slideshow": {
     "slide_type": "fragment"
    }
   },
   "outputs": [
    {
     "data": {
      "text/plain": [
       "0"
      ]
     },
     "execution_count": 37,
     "metadata": {},
     "output_type": "execute_result"
    }
   ],
   "source": [
    "np.dot((1,2), (-2,1))"
   ]
  },
  {
   "cell_type": "markdown",
   "id": "d3a41637",
   "metadata": {
    "slideshow": {
     "slide_type": "slide"
    }
   },
   "source": [
    "# Угол между векторами\n",
    "\n",
    "$ \\cos \\alpha  =  \\frac{<\\overrightarrow{a},\\overrightarrow{b}>}{|\\overrightarrow{a}|\\cdot|\\overrightarrow{b}|} $"
   ]
  },
  {
   "cell_type": "code",
   "execution_count": 62,
   "id": "5ac91e09",
   "metadata": {
    "slideshow": {
     "slide_type": "fragment"
    }
   },
   "outputs": [
    {
     "data": {
      "text/plain": [
       "0.0"
      ]
     },
     "execution_count": 62,
     "metadata": {},
     "output_type": "execute_result"
    }
   ],
   "source": [
    "a, b = (1,2), (-2, 1)\n",
    "\n",
    "np.dot(a, b)/(np.linalg.norm(a)*np.linalg.norm(b))\n"
   ]
  },
  {
   "cell_type": "markdown",
   "id": "215425d5",
   "metadata": {
    "slideshow": {
     "slide_type": "slide"
    }
   },
   "source": [
    "# Расстояние между векторами (метрика)\n",
    "\n",
    "*Евклидово расстояние*\n",
    "\n",
    "$ \\sqrt{\\sum_{i=1}^{n}(a_i - b_i)^2} = \\sqrt{(1-(-2))^2 + (2-1)^2} = \\sqrt{10}$"
   ]
  },
  {
   "cell_type": "code",
   "execution_count": 46,
   "id": "0adc2d6f",
   "metadata": {
    "slideshow": {
     "slide_type": "fragment"
    }
   },
   "outputs": [
    {
     "data": {
      "text/plain": [
       "3.1622776601683795"
      ]
     },
     "execution_count": 46,
     "metadata": {},
     "output_type": "execute_result"
    }
   ],
   "source": [
    "numpy.linalg.norm(np.array(a)-np.array(b))"
   ]
  },
  {
   "cell_type": "markdown",
   "id": "b0cdef6d",
   "metadata": {
    "slideshow": {
     "slide_type": "slide"
    }
   },
   "source": [
    "# Матрицы\n",
    "\n",
    "A = $\\begin{bmatrix}\n",
    "    44.12       & 1 & 114 &  -7.2 \\\\\n",
    "    -38.14       & 0 & 360 &  4.9 \\\\\n",
    "    16.46       & 1 & 48 &  -1.1\n",
    "\\end{bmatrix}$\n",
    "\n",
    "Первый индекс - строка, второй - столбец\n",
    "\n",
    "$ A_{01} = 1 $\n",
    "\n",
    "$ A_{21} = 360 $"
   ]
  },
  {
   "cell_type": "markdown",
   "id": "98f15011",
   "metadata": {
    "slideshow": {
     "slide_type": "subslide"
    }
   },
   "source": [
    "$A = \\begin{bmatrix}\n",
    "    44.12       & 1 & 114 &  -7.2 \\\\\n",
    "    -38.14       & 0 & 360 &  4.9 \\\\\n",
    "    16.46       & 1 & 48 &  -1.1\n",
    "\\end{bmatrix}$\n",
    "\n",
    "$ y = (0, 0, 1) $"
   ]
  },
  {
   "cell_type": "markdown",
   "id": "02569303",
   "metadata": {
    "slideshow": {
     "slide_type": "slide"
    }
   },
   "source": [
    "# Линейная классификация как система уравнений\n",
    "$\n",
    "  \\begin{cases}\n",
    "               44.12w_1 + 1w_2 + 114w_3 - 7.2w_4 = 0\\\\\n",
    "               -38.14w_1 + 0w_2 + 360w_3 - 4.9w_4 = 0\\\\\n",
    "               16.46w_1 + 1w_2 + 48w_3 - 1.1w_4 = 1\n",
    "            \\end{cases}\n",
    "  $"
   ]
  },
  {
   "cell_type": "markdown",
   "id": "986b6a98",
   "metadata": {
    "slideshow": {
     "slide_type": "slide"
    }
   },
   "source": [
    "# Запись в виде векторов и матриц\n",
    "\n",
    "Вектор - тоже матрица, у которой одна из размерностей равна 1\n",
    "\n",
    "Вектор-столбец: $\\begin{bmatrix} w_1 \\\\ w_2 \\\\ w_3 \\\\ w_4\\end{bmatrix}$\n",
    "\n",
    "Вектор-строка: $[w_1, w_2, w_3, w_4]$"
   ]
  },
  {
   "cell_type": "markdown",
   "id": "43504941",
   "metadata": {
    "slideshow": {
     "slide_type": "slide"
    }
   },
   "source": [
    "# Умножение на вектор\n",
    "\n",
    "Матрица $m \\times n$\n",
    "\n",
    "Вектор-столбец $n \\times 1$\n",
    "\n",
    "Результат умножения:\n",
    "\n",
    "$Aw = \\begin{bmatrix} \\sum_{i=1}^{n}a_{1i}w_i \\\\ \\sum_{i=1}^{n}a_{2i}w_i \\\\ ... \\\\ \\sum_{i=1}^{n}a_{mi}w_i\\end{bmatrix}$"
   ]
  },
  {
   "cell_type": "markdown",
   "id": "f0ec17c4",
   "metadata": {
    "slideshow": {
     "slide_type": "subslide"
    }
   },
   "source": [
    "$\\begin{bmatrix}\n",
    "    44.12       & 1 & 114 &  -7.2 \\\\\n",
    "    -38.14       & 0 & 360 &  4.9 \\\\\n",
    "    16.46       & 1 & 48 &  -1.1\n",
    "\\end{bmatrix} \\times \\begin{bmatrix} 1 \\\\ 2 \\\\ 1 \\\\0\\end{bmatrix} = \\begin{bmatrix} 160.12 \\\\ 321.86 \\\\ 66.46 \\end{bmatrix}$\n"
   ]
  },
  {
   "cell_type": "code",
   "execution_count": 61,
   "id": "7c4d5c1c",
   "metadata": {
    "slideshow": {
     "slide_type": "subslide"
    }
   },
   "outputs": [
    {
     "data": {
      "text/plain": [
       "array([[160.12],\n",
       "       [321.86],\n",
       "       [ 66.46]])"
      ]
     },
     "execution_count": 61,
     "metadata": {},
     "output_type": "execute_result"
    }
   ],
   "source": [
    "a = np.array([[44.12, 1, 114, -7.2],\n",
    "              [-38.14, 0, 360, 4.9],\n",
    "              [16.46, 1, 48, -1.1]])\n",
    "\n",
    "b = np.array([[1], [2], [1], [0]])\n",
    "\n",
    "np.matmul(a,b)"
   ]
  },
  {
   "cell_type": "markdown",
   "id": "84c2732e",
   "metadata": {
    "slideshow": {
     "slide_type": "slide"
    }
   },
   "source": [
    "# Линейное преобразование\n",
    "\n",
    "Матрица $ m \\times n $\n",
    "\n",
    "При умножении на вектор длины $n$ получаем вектор длины $m$\n",
    "\n",
    "Матрица задает линейное преобразование из одного векторного пространства в другое"
   ]
  },
  {
   "cell_type": "markdown",
   "id": "152786ed",
   "metadata": {
    "slideshow": {
     "slide_type": "slide"
    }
   },
   "source": [
    "# Умножение матриц\n",
    "\n",
    "Возможно только при совпадении количества столбцов в первой матрице и количества строк во второй матрице\n",
    "\n",
    "Первая матрица $m \\times n$\n",
    "\n",
    "Вторая матрица $n \\times k$\n",
    "\n",
    "Результат -- матрица $С$ размера $m \\times k$\n",
    "\n",
    "$ C = AB $\n",
    "\n",
    "$C_{ij} = \\sum_{p=1}^{n}a_{ip}b_{pj}$"
   ]
  },
  {
   "cell_type": "markdown",
   "id": "4371ce67",
   "metadata": {
    "slideshow": {
     "slide_type": "slide"
    }
   },
   "source": [
    "![MatMul](https://upload.wikimedia.org/wikipedia/commons/8/86/Matrix_multiplication_.gif?20180604102630 \"mm\")"
   ]
  },
  {
   "cell_type": "code",
   "execution_count": 74,
   "id": "0a78b29c",
   "metadata": {
    "slideshow": {
     "slide_type": "subslide"
    }
   },
   "outputs": [
    {
     "name": "stdout",
     "output_type": "stream",
     "text": [
      "matrix A:\n",
      "[[7 3 5]\n",
      " [2 3 8]]\n",
      "matrix B:\n",
      "[[2 4]\n",
      " [4 7]\n",
      " [5 4]]\n",
      "\n",
      "multiplication result:\n"
     ]
    },
    {
     "data": {
      "text/plain": [
       "array([[51, 69],\n",
       "       [56, 61]])"
      ]
     },
     "execution_count": 74,
     "metadata": {},
     "output_type": "execute_result"
    }
   ],
   "source": [
    "a = np.random.randint(10, size=(2,3))\n",
    "b = np.random.randint(10, size=(3,2))\n",
    "\n",
    "print(\"matrix A:\")\n",
    "print(a)\n",
    "print(\"matrix B:\")\n",
    "print(b)\n",
    "print(\"\\nmultiplication result:\")\n",
    "np.matmul(a, b)"
   ]
  },
  {
   "cell_type": "markdown",
   "id": "6567207e",
   "metadata": {
    "slideshow": {
     "slide_type": "slide"
    }
   },
   "source": [
    "# Транспонирование\n",
    "\n",
    "* Транспонирование - поворот относительно главной диагонали\n",
    "* Матрица $A$ размера $m \\times n$ превращается в $A^T$ размера $n \\times m$\n",
    "* $a_{ij}^T = a_{ji}$\n",
    "* Строки становятся столбцами\n",
    "\n",
    "![transpose](https://i.makeagif.com/media/3-31-2015/0Pqxwv.gif \"t\")"
   ]
  },
  {
   "cell_type": "code",
   "execution_count": 79,
   "id": "e28daeb5",
   "metadata": {
    "slideshow": {
     "slide_type": "subslide"
    }
   },
   "outputs": [
    {
     "name": "stdout",
     "output_type": "stream",
     "text": [
      "[[4 7 9]\n",
      " [9 7 5]]\n",
      "\n",
      "Transposed:\n",
      "[[4 9]\n",
      " [7 7]\n",
      " [9 5]]\n"
     ]
    }
   ],
   "source": [
    "a = np.random.randint(10, size=(2,3))\n",
    "print(a)\n",
    "\n",
    "print(\"\\nTransposed:\")\n",
    "print(a.T)"
   ]
  },
  {
   "cell_type": "markdown",
   "id": "0d693805",
   "metadata": {
    "slideshow": {
     "slide_type": "slide"
    }
   },
   "source": [
    "[Numpy Stanford tutorial](https://github.com/srigalibe/CS231n-Python-NumPy-Tutorial/blob/master/tutorials/python/CS231n-Python-NumPy-Tutorial.ipynb \"Standford\") <-- дополнительно\n",
    "\n",
    "Для домашки:\n",
    "* Array\n",
    "* Array indexing\n",
    "* Distance between points\n",
    "\n",
    "Просто почитать:\n",
    "* Boolean array indexing\n",
    "* Datatypes\n",
    "* Plotting"
   ]
  },
  {
   "cell_type": "code",
   "execution_count": null,
   "id": "eca1bfc8",
   "metadata": {},
   "outputs": [],
   "source": []
  }
 ],
 "metadata": {
  "celltoolbar": "Slideshow",
  "kernelspec": {
   "display_name": "Python 3 (ipykernel)",
   "language": "python",
   "name": "python3"
  },
  "language_info": {
   "codemirror_mode": {
    "name": "ipython",
    "version": 3
   },
   "file_extension": ".py",
   "mimetype": "text/x-python",
   "name": "python",
   "nbconvert_exporter": "python",
   "pygments_lexer": "ipython3",
   "version": "3.8.10"
  }
 },
 "nbformat": 4,
 "nbformat_minor": 5
}
